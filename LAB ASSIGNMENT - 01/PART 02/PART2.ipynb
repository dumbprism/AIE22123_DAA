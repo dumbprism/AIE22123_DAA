{
 "cells": [
  {
   "cell_type": "code",
   "execution_count": 1,
   "metadata": {},
   "outputs": [
    {
     "name": "stdout",
     "output_type": "stream",
     "text": [
      "Original array: [64, 34, 25, 12, 22, 11, 90]\n",
      "Sorted array using Bubble Sort: [11, 12, 22, 25, 34, 64, 90]\n",
      "Sorted array using Insertion Sort: [11, 12, 22, 25, 34, 64, 90]\n",
      "Sorted array using Quick Sort: [11, 12, 22, 25, 34, 64, 90]\n",
      "Sorted array using Merge Sort: [11, 12, 22, 25, 34, 64, 90]\n"
     ]
    }
   ],
   "source": [
    "def bubble_sort(arr):\n",
    "    n = len(arr)\n",
    "    for i in range(n):\n",
    "        for j in range(0, n-i-1):\n",
    "            if arr[j] > arr[j+1]:\n",
    "                arr[j], arr[j+1] = arr[j+1], arr[j]\n",
    "\n",
    "def insertion_sort(arr):\n",
    "    for i in range(1, len(arr)):\n",
    "        key = arr[i]\n",
    "        j = i - 1\n",
    "        while j >= 0 and arr[j] > key:\n",
    "            arr[j + 1] = arr[j]\n",
    "            j -= 1\n",
    "        arr[j + 1] = key\n",
    "\n",
    "def quick_sort(arr):\n",
    "    if len(arr) <= 1:\n",
    "        return arr\n",
    "    pivot = arr[len(arr) // 2]\n",
    "    left = [x for x in arr if x < pivot]\n",
    "    middle = [x for x in arr if x == pivot]\n",
    "    right = [x for x in arr if x > pivot]\n",
    "    return quick_sort(left) + middle + quick_sort(right)\n",
    "\n",
    "def merge_sort(arr):\n",
    "    if len(arr) <= 1:\n",
    "        return arr\n",
    "    mid = len(arr) // 2\n",
    "    left_half = arr[:mid]\n",
    "    right_half = arr[mid:]\n",
    "    left_half = merge_sort(left_half)\n",
    "    right_half = merge_sort(right_half)\n",
    "    return merge(left_half, right_half)\n",
    "\n",
    "def merge(left, right):\n",
    "    result = []\n",
    "    left_idx, right_idx = 0, 0\n",
    "    while left_idx < len(left) and right_idx < len(right):\n",
    "        if left[left_idx] < right[right_idx]:\n",
    "            result.append(left[left_idx])\n",
    "            left_idx += 1\n",
    "        else:\n",
    "            result.append(right[right_idx])\n",
    "            right_idx += 1\n",
    "    result.extend(left[left_idx:])\n",
    "    result.extend(right[right_idx:])\n",
    "    return result\n",
    "\n",
    "# Test the functions\n",
    "arr = [64, 34, 25, 12, 22, 11, 90]\n",
    "\n",
    "print(\"Original array:\", arr)\n",
    "\n",
    "bubble_sort_arr = arr.copy()\n",
    "bubble_sort(bubble_sort_arr)\n",
    "print(\"Sorted array using Bubble Sort:\", bubble_sort_arr)\n",
    "\n",
    "insertion_sort_arr = arr.copy()\n",
    "insertion_sort(insertion_sort_arr)\n",
    "print(\"Sorted array using Insertion Sort:\", insertion_sort_arr)\n",
    "\n",
    "quick_sort_arr = arr.copy()\n",
    "quick_sort_arr = quick_sort(quick_sort_arr)\n",
    "print(\"Sorted array using Quick Sort:\", quick_sort_arr)\n",
    "\n",
    "merge_sort_arr = arr.copy()\n",
    "merge_sort_arr = merge_sort(merge_sort_arr)\n",
    "print(\"Sorted array using Merge Sort:\", merge_sort_arr)\n"
   ]
  },
  {
   "cell_type": "code",
   "execution_count": 2,
   "metadata": {},
   "outputs": [
    {
     "name": "stdout",
     "output_type": "stream",
     "text": [
      "Sorted lists : [[0, 2, 5, 6], [1, 2, 3, 4], [1, 2, 3, 7], [3, 5, 8, 9], [4, 6, 7, 8], [1, 2, 3, 4], [0, 2, 5, 6], [4, 6, 7, 8], [1, 2, 3, 7], [3, 5, 8, 9], [1, 2, 3, 4], [0, 2, 5, 6], [4, 6, 7, 8], [1, 2, 3, 7], [3, 5, 8, 9], [1, 2, 3, 4], [0, 2, 5, 6], [4, 6, 7, 8], [1, 2, 3, 7], [3, 5, 8, 9], [1, 2, 3, 4], [0, 2, 5, 6], [4, 6, 7, 8], [1, 2, 3, 7], [3, 5, 8, 9]]\n"
     ]
    }
   ],
   "source": [
    "def sorting(m):\n",
    "    arr = []\n",
    "    for i in m : \n",
    "        arr.extend(m)\n",
    "    \n",
    "    for j in range(0,len(m)):\n",
    "        for k in range(j+1,len(m)):\n",
    "            if(arr[j] > arr[k]):\n",
    "                temp = arr[j]\n",
    "                arr[j] = arr[k]\n",
    "                arr[k]  = temp\n",
    "    \n",
    "    return arr\n",
    "\n",
    "\n",
    "\n",
    "m = int(input(\"Enter the total number of lists that you want to keep  :\"))\n",
    "n = int(input(\"Enter the number of elements tha tyou want inside each array : \"))\n",
    "\n",
    "lists = []\n",
    "\n",
    "for l in range(m):\n",
    "    k = [int(input()) for b in range(n)]\n",
    "    k.sort()\n",
    "    lists.append(k)\n",
    "\n",
    "\n",
    "sorted_list = sorting(lists)\n",
    "print(f\"Sorted lists : {sorted_list}\")\n",
    "\n",
    "\n"
   ]
  },
  {
   "cell_type": "code",
   "execution_count": 3,
   "metadata": {},
   "outputs": [
    {
     "name": "stdout",
     "output_type": "stream",
     "text": [
      "The 3 largest elements are: [10, 9, 8]\n"
     ]
    }
   ],
   "source": [
    "def bubble_sort(arr):\n",
    "    n = len(arr)\n",
    "    for i in range(n):\n",
    "        for j in range(0, n-i-1):\n",
    "            if arr[j] < arr[j+1]:\n",
    "                arr[j], arr[j+1] = arr[j+1], arr[j]\n",
    "\n",
    "def find_k_largest(nums, k):\n",
    "    bubble_sort(nums)\n",
    "    \n",
    "    return nums[:k]\n",
    "\n",
    "array = [3, 10, 4, 7, 9, 8, 5]\n",
    "k = 3\n",
    "print(\"The\", k, \"largest elements are:\", find_k_largest(array, k))\n"
   ]
  },
  {
   "cell_type": "code",
   "execution_count": 4,
   "metadata": {},
   "outputs": [
    {
     "name": "stdout",
     "output_type": "stream",
     "text": [
      "Maximum number of activities performed by a single person: 4\n"
     ]
    }
   ],
   "source": [
    "def insertion_sort(arr):\n",
    "    for i in range(1, len(arr)):\n",
    "        key = arr[i]\n",
    "        j = i - 1\n",
    "        while j >= 0 and arr[j][1] > key[1]:\n",
    "            arr[j + 1] = arr[j]\n",
    "            j -= 1\n",
    "        arr[j + 1] = key\n",
    "\n",
    "def max_activities(activities):\n",
    "    insertion_sort(activities)\n",
    "    \n",
    "    max_activities_count = 0\n",
    "    current_end_time = 0\n",
    "    \n",
    "    for activity in activities:\n",
    "        start_time, end_time = activity\n",
    "        if start_time >= current_end_time:\n",
    "            max_activities_count += 1\n",
    "            current_end_time = end_time\n",
    "    \n",
    "    return max_activities_count\n",
    "\n",
    "activities = [(1, 4), (3, 5), (0, 6), (5, 7), (3, 8), (5, 9), (6, 10), (8, 11), (8, 12), (2, 13), (12, 14)]\n",
    "print(\"Maximum number of activities performed by a single person:\", max_activities(activities))\n"
   ]
  },
  {
   "cell_type": "code",
   "execution_count": 5,
   "metadata": {},
   "outputs": [
    {
     "name": "stdout",
     "output_type": "stream",
     "text": [
      "Non-overlapping intervals after merging: [(1, 6), (8, 10), (15, 18)]\n"
     ]
    }
   ],
   "source": [
    "def insertion_sort(arr):\n",
    "    for i in range(1, len(arr)):\n",
    "        key = arr[i]\n",
    "        j = i - 1\n",
    "        while j >= 0 and arr[j][0] > key[0]:\n",
    "            arr[j + 1] = arr[j]\n",
    "            j -= 1\n",
    "        arr[j + 1] = key\n",
    "\n",
    "def merge_intervals(intervals):\n",
    "    insertion_sort(intervals)\n",
    "    \n",
    "    merged_intervals = []\n",
    "    merged_interval = intervals[0]\n",
    "    \n",
    "    for interval in intervals[1:]:\n",
    "        if interval[0] <= merged_interval[1]:  \n",
    "            merged_interval = (merged_interval[0], max(merged_interval[1], interval[1]))\n",
    "        else:  \n",
    "            merged_intervals.append(merged_interval)\n",
    "            merged_interval = interval\n",
    "    \n",
    "    merged_intervals.append(merged_interval)\n",
    "    \n",
    "    return merged_intervals\n",
    "\n",
    "intervals = [(1, 3), (2, 6), (8, 10), (15, 18)]\n",
    "print(\"Non-overlapping intervals after merging:\", merge_intervals(intervals))\n"
   ]
  }
 ],
 "metadata": {
  "kernelspec": {
   "display_name": "Python 3",
   "language": "python",
   "name": "python3"
  },
  "language_info": {
   "codemirror_mode": {
    "name": "ipython",
    "version": 3
   },
   "file_extension": ".py",
   "mimetype": "text/x-python",
   "name": "python",
   "nbconvert_exporter": "python",
   "pygments_lexer": "ipython3",
   "version": "3.11.0"
  }
 },
 "nbformat": 4,
 "nbformat_minor": 2
}
