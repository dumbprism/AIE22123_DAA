{
 "cells": [
  {
   "cell_type": "code",
   "execution_count": 1,
   "metadata": {},
   "outputs": [
    {
     "name": "stdout",
     "output_type": "stream",
     "text": [
      "Enter the elements inside the list : \n",
      "[1, 2, 3, 4]\n",
      "(1, 2)\n"
     ]
    }
   ],
   "source": [
    "a = []\n",
    "n = int(input(\"Enter the size of the array : \"))\n",
    "print(\"Enter the elements inside the list : \")\n",
    "for l in range(0,n):\n",
    "    k = int(input())\n",
    "    a.append(k)\n",
    "\n",
    "print(a)\n",
    "target = int(input(\"Enter a target element = \"))\n",
    "for i in range(0,len(a)):\n",
    "    for j in range(i+1,len(a)):\n",
    "        if(a[i] + a[j] == target):\n",
    "            print((a[i],a[j]))"
   ]
  },
  {
   "cell_type": "code",
   "execution_count": 2,
   "metadata": {},
   "outputs": [
    {
     "name": "stdout",
     "output_type": "stream",
     "text": [
      "Enter the elements inside the list : \n",
      "[5, 4, 3, 2, 1, 3, 2]\n",
      "the maximum product is =  20\n"
     ]
    }
   ],
   "source": [
    "a = []\n",
    "n = int(input(\"Enter the size of the array : \"))\n",
    "print(\"Enter the elements inside the list : \")\n",
    "for l in range(0,n):\n",
    "    k = int(input())\n",
    "    a.append(k)\n",
    "\n",
    "print(a)\n",
    "max_prod = 0\n",
    "\n",
    "for i in range(0,len(a)):\n",
    "    for j in range(i+1,len(a)):\n",
    "        if (a[i] * a[j] > max_prod):\n",
    "            max_prod = a[i] * a[j]\n",
    "\n",
    "print(f\"the maximum product is =  {max_prod}\")\n"
   ]
  },
  {
   "cell_type": "code",
   "execution_count": 3,
   "metadata": {},
   "outputs": [
    {
     "name": "stdout",
     "output_type": "stream",
     "text": [
      "Enter the elements inside the list : \n",
      "[4, 3, 2, 1, 6, 4]\n",
      "the final sorted array is = [1, 2, 3, 4, 4, 6]\n"
     ]
    }
   ],
   "source": [
    "a = []\n",
    "n = int(input(\"Enter the size of the array : \"))\n",
    "print(\"Enter the elements inside the list : \")\n",
    "for l in range(0,n):\n",
    "    k = int(input())\n",
    "    a.append(k)\n",
    "\n",
    "print(a)\n",
    "\n",
    "for i in range(0,len(a)):\n",
    "    for j in range(i+1,len(a)):\n",
    "        if(a[i] > a[j]):\n",
    "            temp = a[j]\n",
    "            a[j] = a[i]\n",
    "            a[i] = temp\n",
    "\n",
    "print(f\"the final sorted array is = {a}\")"
   ]
  },
  {
   "cell_type": "code",
   "execution_count": 4,
   "metadata": {},
   "outputs": [
    {
     "name": "stdout",
     "output_type": "stream",
     "text": [
      "Enter the elements (only binary) inside the list : \n",
      "a = [3, 2, 1, 6, 5]\n",
      "final output =  [3, 2, 1, 6, 5]\n"
     ]
    }
   ],
   "source": [
    "a = []\n",
    "n = int(input(\"Enter the size of the array : \"))\n",
    "print(\"Enter the elements (only binary) inside the list : \")\n",
    "for l in range(0,n):\n",
    "    k = int(input())\n",
    "    a.append(k)\n",
    "\n",
    "print(f\"a = {a}\")\n",
    "\n",
    "zeros = []\n",
    "ones = []\n",
    "\n",
    "for i in range(0,len(a)):\n",
    "    if (a[i] == 0):\n",
    "        zeros.append(a[i])\n",
    "    else:\n",
    "        ones.append(a[i])\n",
    "\n",
    "final_output = zeros + ones\n",
    "print(f\"final output =  {final_output}\")\n",
    "\n"
   ]
  },
  {
   "cell_type": "code",
   "execution_count": 5,
   "metadata": {},
   "outputs": [
    {
     "name": "stdout",
     "output_type": "stream",
     "text": [
      "Enter the elements inside the list : \n",
      "[3, 2, 1, 5]\n",
      "((3, 2), (3, 1), (2, 1))\n",
      "the total count of inversions is = 3\n"
     ]
    }
   ],
   "source": [
    "a = []\n",
    "n = int(input(\"Enter the size of the array : \"))\n",
    "print(\"Enter the elements inside the list : \")\n",
    "for l in range(0,n):\n",
    "    k = int(input())\n",
    "    a.append(k)\n",
    "\n",
    "print(a)\n",
    "invs = []\n",
    "\n",
    "for i in range(0,len(a)):\n",
    "    for j in range(i+1,len(a)):\n",
    "        if(a[i] > a[j]):\n",
    "            invs.append( (a[i],a[j]))\n",
    "\n",
    "\n",
    "print(tuple(invs))\n",
    "print(f\"the total count of inversions is = {len(invs)}\")"
   ]
  },
  {
   "cell_type": "code",
   "execution_count": 6,
   "metadata": {},
   "outputs": [
    {
     "name": "stdout",
     "output_type": "stream",
     "text": [
      "Yes, there exists a pair that sums up to 10 : (4, 6)\n",
      "Yes, there exists a pair that sums up to 10 : (4, 6)\n"
     ]
    }
   ],
   "source": [
    "def two_sum_brute_force(arr, K):\n",
    "    n = len(arr)\n",
    "    for i in range(n):\n",
    "        for j in range(i+1, n):\n",
    "            if arr[i] + arr[j] == K:\n",
    "                return True, (arr[i], arr[j])\n",
    "    return False, None\n",
    "\n",
    "# Testing the function\n",
    "arr = [8, 4, 1, 6]\n",
    "K = 10\n",
    "found, pair = two_sum_brute_force(arr, K)\n",
    "if found:\n",
    "    print(\"Yes, there exists a pair that sums up to\", K, \":\", pair)\n",
    "else:\n",
    "    print(\"No such pair exists.\")\n",
    "\n",
    "def two_sum_sorted(arr, K):\n",
    "    arr.sort()\n",
    "    left, right = 0, len(arr) - 1\n",
    "    while left < right:\n",
    "        current_sum = arr[left] + arr[right]\n",
    "        if current_sum == K:\n",
    "            return True, (arr[left], arr[right])\n",
    "        elif current_sum < K:\n",
    "            left += 1\n",
    "        else:\n",
    "            right -= 1\n",
    "    return False, None\n",
    "\n",
    "# Testing the function\n",
    "arr = [8, 4, 1, 6]\n",
    "K = 10\n",
    "found, pair = two_sum_sorted(arr, K)\n",
    "if found:\n",
    "    print(\"Yes, there exists a pair that sums up to\", K, \":\", pair)\n",
    "else:\n",
    "    print(\"No such pair exists.\")\n"
   ]
  }
 ],
 "metadata": {
  "kernelspec": {
   "display_name": "Python 3",
   "language": "python",
   "name": "python3"
  },
  "language_info": {
   "codemirror_mode": {
    "name": "ipython",
    "version": 3
   },
   "file_extension": ".py",
   "mimetype": "text/x-python",
   "name": "python",
   "nbconvert_exporter": "python",
   "pygments_lexer": "ipython3",
   "version": "3.11.0"
  }
 },
 "nbformat": 4,
 "nbformat_minor": 2
}
