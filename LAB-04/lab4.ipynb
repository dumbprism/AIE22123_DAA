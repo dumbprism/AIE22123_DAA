{
 "cells": [
  {
   "cell_type": "code",
   "execution_count": 11,
   "metadata": {},
   "outputs": [
    {
     "name": "stdout",
     "output_type": "stream",
     "text": [
      "Optimal Solution:\n",
      "Items in the sack: [(60, 10, 1), (100, 20, 1), (80.0, 30, 0.6666666666666666)]\n",
      "Total value: 240.0\n"
     ]
    }
   ],
   "source": [
    "def fractional_knapsack(items, capacity):\n",
    "    # Calculate the value-to-weight ratio for each item\n",
    "    items_with_ratios = []\n",
    "    for item in items:\n",
    "        value, weight = item\n",
    "        ratio = value / weight\n",
    "        items_with_ratios.append((value, weight, ratio))\n",
    "\n",
    "    # Sort items by value-to-weight ratio in descending order\n",
    "    items_with_ratios.sort(key=lambda x: x[2], reverse=True)\n",
    "\n",
    "    total_value = 0\n",
    "    sack = []\n",
    "\n",
    "    for item in items_with_ratios:\n",
    "        value, weight, ratio = item\n",
    "        if capacity >= weight:\n",
    "            sack.append((value, weight, 1))  # full item added to sack\n",
    "            total_value += value\n",
    "            capacity -= weight\n",
    "        else:\n",
    "            fraction = capacity / weight\n",
    "            sack.append((value * fraction, weight, fraction))  # fraction of item added to sack\n",
    "            total_value += value * fraction\n",
    "            break  # sack full\n",
    "\n",
    "    return sack, total_value\n",
    "\n",
    "# Example usage:\n",
    "items = [(60, 10), (100, 20), (120, 30)]  # Format: (value, weight)\n",
    "capacity = 50\n",
    "sack, total_value = fractional_knapsack(items, capacity)\n",
    "print(\"Optimal Solution:\")\n",
    "print(\"Items in the sack:\", sack)\n",
    "print(\"Total value:\", total_value)\n"
   ]
  },
  {
   "cell_type": "code",
   "execution_count": 12,
   "metadata": {},
   "outputs": [
    {
     "name": "stdout",
     "output_type": "stream",
     "text": [
      "Maximized sum: 17\n"
     ]
    }
   ],
   "source": [
    "def maximize_sum(arr):\n",
    "    \n",
    "    arr.sort(reverse=True)\n",
    "\n",
    "    max_sum = 0\n",
    "    for i, num in enumerate(arr):\n",
    "        max_sum += num * i\n",
    "\n",
    "    return max_sum\n",
    "\n",
    "\n",
    "arr = [3, 5, 6, 2]  \n",
    "max_sum = maximize_sum(arr)\n",
    "print(\"Maximized sum:\", max_sum)\n"
   ]
  },
  {
   "cell_type": "code",
   "execution_count": 13,
   "metadata": {},
   "outputs": [
    {
     "name": "stdout",
     "output_type": "stream",
     "text": [
      "Enter elements of array_One:\n",
      "\n",
      "Enter elements of array_Two:\n",
      "[1, 2, 3, 7]\n",
      "[2, 3, 4, 5]\n",
      "Minimum sum of product of pairs: 55\n"
     ]
    }
   ],
   "source": [
    "def min_product_sum(array_One, array_Two):\n",
    "    \n",
    "    array_One.sort()\n",
    "    array_Two.sort()\n",
    "\n",
    "    \n",
    "    min_sum = sum(array_One[i] * array_Two[i] for i in range(len(array_One)))\n",
    "\n",
    "    return min_sum\n",
    "\n",
    "\n",
    "arr1 = []\n",
    "n = int(input(\"Enter the size of array_One: \"))\n",
    "print(\"Enter elements of array_One:\")\n",
    "for i in range(n):\n",
    "    arr1.append(int(input()))\n",
    "\n",
    "\n",
    "arr2 = []\n",
    "print(\"\\nEnter elements of array_Two:\")\n",
    "for i in range(n):\n",
    "    arr2.append(int(input()))\n",
    "\n",
    "\n",
    "if len(arr1) != len(arr2):\n",
    "    print(\"Arrays must have the same length.\")\n",
    "else:\n",
    "    min_sum = min_product_sum(arr1, arr2)\n",
    "    print(arr1)\n",
    "    print(arr2)\n",
    "    print(\"Minimum sum of product of pairs:\", min_sum)\n"
   ]
  }
 ],
 "metadata": {
  "kernelspec": {
   "display_name": "Python 3",
   "language": "python",
   "name": "python3"
  },
  "language_info": {
   "codemirror_mode": {
    "name": "ipython",
    "version": 3
   },
   "file_extension": ".py",
   "mimetype": "text/x-python",
   "name": "python",
   "nbconvert_exporter": "python",
   "pygments_lexer": "ipython3",
   "version": "3.11.0"
  }
 },
 "nbformat": 4,
 "nbformat_minor": 2
}
